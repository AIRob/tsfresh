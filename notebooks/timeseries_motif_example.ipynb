{
 "cells": [
  {
   "cell_type": "markdown",
   "metadata": {
    "deletable": true,
    "editable": true
   },
   "source": [
    "This notebook illustrates the motif detection. \n",
    "Such identifies interesting subsequences in your time series data.\n",
    "Later you can use motifs to calculate new features."
   ]
  },
  {
   "cell_type": "code",
   "execution_count": 1,
   "metadata": {
    "collapsed": false,
    "deletable": true,
    "editable": true
   },
   "outputs": [],
   "source": [
    "%matplotlib inline"
   ]
  },
  {
   "cell_type": "code",
   "execution_count": 2,
   "metadata": {
    "collapsed": false,
    "deletable": true,
    "editable": true
   },
   "outputs": [
    {
     "name": "stderr",
     "output_type": "stream",
     "text": [
      "/Users/mchrist/Documents/Research/tsfresh/venv/lib/python2.7/site-packages/IPython/html.py:14: ShimWarning: The `IPython.html` package has been deprecated since IPython 4.0. You should import from `notebook` instead. `IPython.html.widgets` has moved to `ipywidgets`.\n",
      "  \"`IPython.html.widgets` has moved to `ipywidgets`.\", ShimWarning)\n",
      "/Users/mchrist/Documents/Research/tsfresh/venv/lib/python2.7/site-packages/statsmodels/compat/pandas.py:56: FutureWarning: The pandas.core.datetools module is deprecated and will be removed in a future version. Please use the pandas.tseries module instead.\n",
      "  from pandas.core import datetools\n"
     ]
    }
   ],
   "source": [
    "import numpy as np\n",
    "import pandas as pd\n",
    "import matplotlib.pylab as plt\n",
    "import seaborn as sns\n",
    "from itertools import cycle\n",
    "from pylab import rcParams\n",
    "\n",
    "from tsfresh import extract_features\n",
    "from tsfresh.utilities.dataframe_functions import make_forecasting_frame\n",
    "from sklearn.ensemble import AdaBoostRegressor\n",
    "from tsfresh.utilities.dataframe_functions import impute\n",
    "from tsfresh.feature_extraction import motifs\n",
    "\n",
    "import pandas_datareader.data as web\n",
    "import datetime\n",
    "\n",
    "import warnings\n",
    "warnings.filterwarnings('ignore')"
   ]
  },
  {
   "cell_type": "markdown",
   "metadata": {
    "deletable": true,
    "editable": true
   },
   "source": [
    "# Use google stock data to get a fairly arbitrary timeseries"
   ]
  },
  {
   "cell_type": "code",
   "execution_count": 3,
   "metadata": {
    "collapsed": false,
    "deletable": true,
    "editable": true,
    "scrolled": true
   },
   "outputs": [
    {
     "data": {
      "text/html": [
       "<div>\n",
       "<style>\n",
       "    .dataframe thead tr:only-child th {\n",
       "        text-align: right;\n",
       "    }\n",
       "\n",
       "    .dataframe thead th {\n",
       "        text-align: left;\n",
       "    }\n",
       "\n",
       "    .dataframe tbody tr th {\n",
       "        vertical-align: top;\n",
       "    }\n",
       "</style>\n",
       "<table border=\"1\" class=\"dataframe\">\n",
       "  <thead>\n",
       "    <tr style=\"text-align: right;\">\n",
       "      <th></th>\n",
       "      <th>Open</th>\n",
       "      <th>High</th>\n",
       "      <th>Low</th>\n",
       "      <th>Close</th>\n",
       "      <th>Volume</th>\n",
       "    </tr>\n",
       "    <tr>\n",
       "      <th>Date</th>\n",
       "      <th></th>\n",
       "      <th></th>\n",
       "      <th></th>\n",
       "      <th></th>\n",
       "      <th></th>\n",
       "    </tr>\n",
       "  </thead>\n",
       "  <tbody>\n",
       "    <tr>\n",
       "      <th>2016-01-04</th>\n",
       "      <td>13.87</td>\n",
       "      <td>14.00</td>\n",
       "      <td>13.75</td>\n",
       "      <td>13.97</td>\n",
       "      <td>38525811</td>\n",
       "    </tr>\n",
       "    <tr>\n",
       "      <th>2016-01-05</th>\n",
       "      <td>13.97</td>\n",
       "      <td>14.00</td>\n",
       "      <td>13.51</td>\n",
       "      <td>13.72</td>\n",
       "      <td>50267536</td>\n",
       "    </tr>\n",
       "    <tr>\n",
       "      <th>2016-01-06</th>\n",
       "      <td>13.56</td>\n",
       "      <td>13.56</td>\n",
       "      <td>13.05</td>\n",
       "      <td>13.11</td>\n",
       "      <td>61285453</td>\n",
       "    </tr>\n",
       "    <tr>\n",
       "      <th>2016-01-07</th>\n",
       "      <td>12.90</td>\n",
       "      <td>13.04</td>\n",
       "      <td>12.60</td>\n",
       "      <td>12.70</td>\n",
       "      <td>57846688</td>\n",
       "    </tr>\n",
       "    <tr>\n",
       "      <th>2016-01-08</th>\n",
       "      <td>13.05</td>\n",
       "      <td>13.10</td>\n",
       "      <td>12.50</td>\n",
       "      <td>12.54</td>\n",
       "      <td>46199413</td>\n",
       "    </tr>\n",
       "  </tbody>\n",
       "</table>\n",
       "</div>"
      ],
      "text/plain": [
       "             Open   High    Low  Close    Volume\n",
       "Date                                            \n",
       "2016-01-04  13.87  14.00  13.75  13.97  38525811\n",
       "2016-01-05  13.97  14.00  13.51  13.72  50267536\n",
       "2016-01-06  13.56  13.56  13.05  13.11  61285453\n",
       "2016-01-07  12.90  13.04  12.60  12.70  57846688\n",
       "2016-01-08  13.05  13.10  12.50  12.54  46199413"
      ]
     },
     "execution_count": 3,
     "metadata": {},
     "output_type": "execute_result"
    }
   ],
   "source": [
    "start = datetime.datetime(2016, 1, 1)\n",
    "end = datetime.datetime(2017, 1, 1)\n",
    "x = web.DataReader(\"F\", 'google', start, end)\n",
    "x.head()"
   ]
  },
  {
   "cell_type": "code",
   "execution_count": 4,
   "metadata": {
    "collapsed": false,
    "deletable": true,
    "editable": true
   },
   "outputs": [
    {
     "name": "stdout",
     "output_type": "stream",
     "text": [
      "<class 'pandas.core.frame.DataFrame'>\n",
      "DatetimeIndex: 252 entries, 2016-01-04 to 2016-12-30\n",
      "Data columns (total 5 columns):\n",
      "Open      252 non-null float64\n",
      "High      252 non-null float64\n",
      "Low       252 non-null float64\n",
      "Close     252 non-null float64\n",
      "Volume    252 non-null int64\n",
      "dtypes: float64(4), int64(1)\n",
      "memory usage: 11.8 KB\n"
     ]
    }
   ],
   "source": [
    "x.info()"
   ]
  },
  {
   "cell_type": "code",
   "execution_count": 5,
   "metadata": {
    "collapsed": false,
    "deletable": true,
    "editable": true,
    "scrolled": true
   },
   "outputs": [
    {
     "data": {
      "image/png": "[encoded data removed]",
      "text/plain": [
       "<matplotlib.figure.Figure at 0x104c8b6d0>"
      ]
     },
     "metadata": {},
     "output_type": "display_data"
    }
   ],
   "source": [
    "closing = x[\"Close\"]\n",
    "closing.plot(figsize=(15, 6))\n",
    "plt.show()"
   ]
  },
  {
   "cell_type": "markdown",
   "metadata": {
    "deletable": true,
    "editable": true
   },
   "source": [
    "# Manually calling motif finding"
   ]
  },
  {
   "cell_type": "code",
   "execution_count": 6,
   "metadata": {
    "collapsed": false,
    "deletable": true,
    "editable": true,
    "scrolled": false
   },
   "outputs": [],
   "source": [
    "motif_length = 5\n",
    "motif_count = 5\n",
    "found_motifs = motifs.find_motifs(x[\"Close\"], motif_length, motif_count)"
   ]
  },
  {
   "cell_type": "code",
   "execution_count": 9,
   "metadata": {
    "collapsed": false
   },
   "outputs": [],
   "source": [
    "found_motifs = motifs.find_motifs(pd.Series([0, 0, 0, 1, 1, 0, 0 ,0, 1, 1, 0, 0, 1 ,1, 1]), motif_length=1, motif_count=5)"
   ]
  },
  {
   "cell_type": "code",
   "execution_count": 10,
   "metadata": {
    "collapsed": false
   },
   "outputs": [
    {
     "data": {
      "text/plain": [
       "[(0, 1, 0.0), (1, 2, 0.0), (2, 5, 0.0), (3, 4, 0.0), (4, 8, 0.0)]"
      ]
     },
     "execution_count": 10,
     "metadata": {},
     "output_type": "execute_result"
    }
   ],
   "source": [
    "found_motifs"
   ]
  },
  {
   "cell_type": "code",
   "execution_count": null,
   "metadata": {
    "collapsed": false,
    "deletable": true,
    "editable": true
   },
   "outputs": [],
   "source": [
    "rcParams['figure.figsize'] = 15, 6\n",
    "plt.plot(closing,'b-')\n",
    "linestyles = ['r-o','g-s','y-d','m-v','c-D']\n",
    "line_cycler = cycle(linestyles)\n",
    "for start,match,quality in found_motifs:\n",
    "    line_format = next(line_cycler)\n",
    "    plt.plot(closing[start:start+motif_length],line_format) \n",
    "    plt.plot(closing[match:match+motif_length],line_format) \n",
    "plt.title(\"Showing motifs within the series and their best match\")\n",
    "plt.show()"
   ]
  },
  {
   "cell_type": "markdown",
   "metadata": {
    "deletable": true,
    "editable": true
   },
   "source": [
    "### Generating features from Motifs"
   ]
  },
  {
   "cell_type": "code",
   "execution_count": null,
   "metadata": {
    "collapsed": false,
    "deletable": true,
    "editable": true
   },
   "outputs": [],
   "source": [
    "# Motif counts as a feature\n",
    "distance = 0.5\n",
    "for i,motif in enumerate(found_motifs):\n",
    "    n = motifs.count_motifs(closing,motif, dist = distance)\n",
    "    print(\"Motif {} has {} incidences with distance {} or less\".format(i,n,distance))"
   ]
  }
 ],
 "metadata": {
  "kernelspec": {
   "display_name": "Python 2",
   "language": "python",
   "name": "python2"
  },
  "language_info": {
   "codemirror_mode": {
    "name": "ipython",
    "version": 2
   },
   "file_extension": ".py",
   "mimetype": "text/x-python",
   "name": "python",
   "nbconvert_exporter": "python",
   "pygments_lexer": "ipython2",
   "version": "2.7.10"
  }
 },
 "nbformat": 4,
 "nbformat_minor": 2
}
